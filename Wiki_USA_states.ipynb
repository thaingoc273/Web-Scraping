{
 "cells": [
  {
   "cell_type": "code",
   "execution_count": 2,
   "metadata": {},
   "outputs": [],
   "source": [
    "from bs4 import BeautifulSoup\n",
    "import requests\n",
    "import lxml\n",
    "import sqlite3\n",
    "import time"
   ]
  },
  {
   "cell_type": "code",
   "execution_count": 3,
   "metadata": {},
   "outputs": [],
   "source": [
    "url_addr = 'https://en.wikipedia.org/wiki/U.S._state'\n",
    "file = requests.get(url_addr).text\n",
    "file_html = BeautifulSoup(file, 'html.parser')"
   ]
  },
  {
   "cell_type": "code",
   "execution_count": 4,
   "metadata": {},
   "outputs": [],
   "source": [
    "all_states = file_html.find('div', class_=  \"plainlist\").find_all('li')\n",
    "#all_states = all_states.find_all('li')"
   ]
  },
  {
   "cell_type": "code",
   "execution_count": 5,
   "metadata": {},
   "outputs": [
    {
     "name": "stdout",
     "output_type": "stream",
     "text": [
      "https://en.wikipedia.org/wiki/Alabama\n",
      "https://en.wikipedia.org/wiki/Alaska\n",
      "https://en.wikipedia.org/wiki/Arizona\n",
      "https://en.wikipedia.org/wiki/Arkansas\n",
      "https://en.wikipedia.org/wiki/California\n",
      "https://en.wikipedia.org/wiki/Colorado\n",
      "https://en.wikipedia.org/wiki/Connecticut\n",
      "https://en.wikipedia.org/wiki/Delaware\n",
      "https://en.wikipedia.org/wiki/Florida\n",
      "https://en.wikipedia.org/wiki/Georgia_(U.S._state)\n",
      "https://en.wikipedia.org/wiki/Hawaii\n",
      "https://en.wikipedia.org/wiki/Idaho\n",
      "https://en.wikipedia.org/wiki/Illinois\n",
      "https://en.wikipedia.org/wiki/Indiana\n",
      "https://en.wikipedia.org/wiki/Iowa\n",
      "https://en.wikipedia.org/wiki/Kansas\n",
      "https://en.wikipedia.org/wiki/Kentucky\n",
      "https://en.wikipedia.org/wiki/Louisiana\n",
      "https://en.wikipedia.org/wiki/Maine\n",
      "https://en.wikipedia.org/wiki/Maryland\n",
      "https://en.wikipedia.org/wiki/Massachusetts\n",
      "https://en.wikipedia.org/wiki/Michigan\n",
      "https://en.wikipedia.org/wiki/Minnesota\n",
      "https://en.wikipedia.org/wiki/Mississippi\n",
      "https://en.wikipedia.org/wiki/Missouri\n",
      "https://en.wikipedia.org/wiki/Montana\n",
      "https://en.wikipedia.org/wiki/Nebraska\n",
      "https://en.wikipedia.org/wiki/Nevada\n",
      "https://en.wikipedia.org/wiki/New_Hampshire\n",
      "https://en.wikipedia.org/wiki/New_Jersey\n",
      "https://en.wikipedia.org/wiki/New_Mexico\n",
      "https://en.wikipedia.org/wiki/New_York_(state)\n",
      "https://en.wikipedia.org/wiki/North_Carolina\n",
      "https://en.wikipedia.org/wiki/North_Dakota\n",
      "https://en.wikipedia.org/wiki/Ohio\n",
      "https://en.wikipedia.org/wiki/Oklahoma\n",
      "https://en.wikipedia.org/wiki/Oregon\n",
      "https://en.wikipedia.org/wiki/Pennsylvania\n",
      "https://en.wikipedia.org/wiki/Rhode_Island\n",
      "https://en.wikipedia.org/wiki/South_Carolina\n",
      "https://en.wikipedia.org/wiki/South_Dakota\n",
      "https://en.wikipedia.org/wiki/Tennessee\n",
      "https://en.wikipedia.org/wiki/Texas\n",
      "https://en.wikipedia.org/wiki/Utah\n",
      "https://en.wikipedia.org/wiki/Vermont\n",
      "https://en.wikipedia.org/wiki/Virginia\n",
      "https://en.wikipedia.org/wiki/Washington_(state)\n",
      "https://en.wikipedia.org/wiki/West_Virginia\n",
      "https://en.wikipedia.org/wiki/Wisconsin\n",
      "https://en.wikipedia.org/wiki/Wyoming\n"
     ]
    }
   ],
   "source": [
    "for state in all_states:\n",
    "    state_link = state.find('a', href=True)\n",
    "    state_full_link = 'https://en.wikipedia.org'+state_link.get('href')\n",
    "    print(state_full_link)"
   ]
  },
  {
   "cell_type": "code",
   "execution_count": 69,
   "metadata": {},
   "outputs": [],
   "source": [
    "def load_web(addr):\n",
    "    file = requests.get(addr).text\n",
    "    file_html= BeautifulSoup(file, 'lxml')\n",
    "    return file_html"
   ]
  },
  {
   "cell_type": "code",
   "execution_count": 184,
   "metadata": {},
   "outputs": [],
   "source": [
    "conn = sqlite3.connect('Collectdata.db')\n",
    "c = conn.cursor()\n",
    "try:\n",
    "    conn.execute(\"DROP TABLE STATES\")    \n",
    "except:\n",
    "    print('No table')\n",
    "\n",
    "c.execute(\"CREATE TABLE STATES (Current_Rank TEXT, Rank_2010 TEXT, State TEXT, Population_2019 TEXT,\"\\\n",
    "          \" Population_2010 TEXT, Change_percents TEXT, Change_absolute TEXT, House_Representative TEXT,\"\\\n",
    "          \"Population_per_electoral_vote Text, Population_per_electoral_vote_2019 Text, Population_per_electoral_vote_2010 Text, Population_percent_2019 Text)\")                                 \n",
    "conn.commit()\n"
   ]
  },
  {
   "cell_type": "code",
   "execution_count": 185,
   "metadata": {},
   "outputs": [],
   "source": [
    "html_USA = load_web('https://en.wikipedia.org/wiki/List_of_states_and_territories_of_the_United_States_by_population')\n",
    "table_popu = html_USA.find('table', class_ = 'wikitable sortable')\n",
    "table_body = table_popu.find('tbody').find_all('tr')"
   ]
  },
  {
   "cell_type": "code",
   "execution_count": 186,
   "metadata": {},
   "outputs": [],
   "source": [
    "for i in range(2, len(table_body)):\n",
    "    lst = []\n",
    "    data_full = table_body[i].find_all('td')\n",
    "    for data in data_full:\n",
    "        string_data = data.text\n",
    "        string_data = string_data.rstrip('\\n')\n",
    "        string_data = string_data.replace(u'\\xa0', u' ')\n",
    "        lst.append(string_data)    \n",
    "    c.execute(\"INSERT INTO STATES VALUES(?,?,?,?,?,?,?,?,?,?,?,?)\", tuple(lst))\n",
    "conn.commit()"
   ]
  }
 ],
 "metadata": {
  "kernelspec": {
   "display_name": "Python 3",
   "language": "python",
   "name": "python3"
  },
  "language_info": {
   "codemirror_mode": {
    "name": "ipython",
    "version": 3
   },
   "file_extension": ".py",
   "mimetype": "text/x-python",
   "name": "python",
   "nbconvert_exporter": "python",
   "pygments_lexer": "ipython3",
   "version": "3.8.5"
  }
 },
 "nbformat": 4,
 "nbformat_minor": 4
}
